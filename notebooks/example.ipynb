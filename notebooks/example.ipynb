{
 "cells": [
  {
   "cell_type": "code",
   "execution_count": 1,
   "metadata": {},
   "outputs": [],
   "source": [
    "from concurrentbuffer.commander import Commander\n",
    "class IndexCommander(Commander):\n",
    "    def __init__(self, max_index: int):\n",
    "        self._max_index = max_index\n",
    "        self._index = 0\n",
    "\n",
    "    def create_message(self) -> dict:\n",
    "        message = {\"index\": self._index}\n",
    "        self._index = (self._index + 1) % self._max_index\n",
    "        return message\n",
    "    \n",
    "    def update(self, info):\n",
    "        if 'reset' in info:\n",
    "            self._index = 0\n",
    "        print(self._index)"
   ]
  },
  {
   "cell_type": "code",
   "execution_count": 2,
   "metadata": {},
   "outputs": [],
   "source": [
    "import numpy as np\n",
    "from concurrentbuffer.producer import Producer\n",
    "\n",
    "class DataProducer(Producer):\n",
    "    def __init__(self, data_shapes: tuple):\n",
    "        self._data_shapes = data_shapes\n",
    "\n",
    "    def create_data(self, message: dict) -> np.ndarray:\n",
    "        index = message['index']\n",
    "        return self._time_consuming_processing(index)\n",
    "\n",
    "    def _time_consuming_processing(self, index) -> np.ndarray:\n",
    "        return np.ones(self._data_shapes[0])*index, np.ones(self._data_shapes[1])*(index*2)\n",
    "        "
   ]
  },
  {
   "cell_type": "code",
   "execution_count": 5,
   "metadata": {},
   "outputs": [
    {
     "name": "stdout",
     "output_type": "stream",
     "text": [
      "[array([[0, 0, 0, 0, 0, 0, 0, 0, 0, 0]], dtype=uint8), array([[0, 0, 0, 0, 0],\n",
      "       [0, 0, 0, 0, 0]], dtype=uint8)]\n",
      "[array([[1, 1, 1, 1, 1, 1, 1, 1, 1, 1]], dtype=uint8), array([[2, 2, 2, 2, 2],\n",
      "       [2, 2, 2, 2, 2]], dtype=uint8)]\n",
      "[array([[2, 2, 2, 2, 2, 2, 2, 2, 2, 2]], dtype=uint8), array([[4, 4, 4, 4, 4],\n",
      "       [4, 4, 4, 4, 4]], dtype=uint8)]\n",
      "[array([[3, 3, 3, 3, 3, 3, 3, 3, 3, 3]], dtype=uint8), array([[6, 6, 6, 6, 6],\n",
      "       [6, 6, 6, 6, 6]], dtype=uint8)]\n",
      "[array([[4, 4, 4, 4, 4, 4, 4, 4, 4, 4]], dtype=uint8), array([[8, 8, 8, 8, 8],\n",
      "       [8, 8, 8, 8, 8]], dtype=uint8)]\n",
      "[array([[5, 5, 5, 5, 5, 5, 5, 5, 5, 5]], dtype=uint8), array([[10, 10, 10, 10, 10],\n",
      "       [10, 10, 10, 10, 10]], dtype=uint8)]\n",
      "[array([[6, 6, 6, 6, 6, 6, 6, 6, 6, 6]], dtype=uint8), array([[12, 12, 12, 12, 12],\n",
      "       [12, 12, 12, 12, 12]], dtype=uint8)]\n",
      "[array([[7, 7, 7, 7, 7, 7, 7, 7, 7, 7]], dtype=uint8), array([[14, 14, 14, 14, 14],\n",
      "       [14, 14, 14, 14, 14]], dtype=uint8)]\n",
      "[array([[8, 8, 8, 8, 8, 8, 8, 8, 8, 8]], dtype=uint8), array([[16, 16, 16, 16, 16],\n",
      "       [16, 16, 16, 16, 16]], dtype=uint8)]\n",
      "[array([[9, 9, 9, 9, 9, 9, 9, 9, 9, 9]], dtype=uint8), array([[18, 18, 18, 18, 18],\n",
      "       [18, 18, 18, 18, 18]], dtype=uint8)]\n"
     ]
    }
   ],
   "source": [
    "from concurrentbuffer.iterator import buffer_iterator_factory\n",
    "\n",
    "\n",
    "# the number of cpus/producers\n",
    "cpus = 4\n",
    "\n",
    "# the buffershape in the shared memory\n",
    "buffer_shapes = ((1, 10), (2,5))\n",
    "\n",
    "# the context of multiprocess (spawn or fork)\n",
    "context = 'fork'\n",
    "\n",
    "# if the messages from the commander and the produced data are first in first out\n",
    "deterministic = True\n",
    "\n",
    "# You will have to create your own Commander class, please see instructions below\n",
    "# a user defined commander, should subclass the Commander class\n",
    "commander = IndexCommander(max_index=10)\n",
    "\n",
    "# You will have to create your own Producer class, please see instructions below\n",
    "# a user defined producer, should subclass the Producer class\n",
    "producer = DataProducer(data_shapes=buffer_shapes)\n",
    "\n",
    "# create a buffer iterator\n",
    "buffer_iterator = buffer_iterator_factory(\n",
    "    cpus=cpus,\n",
    "    buffer_shapes=buffer_shapes,\n",
    "    commander=commander,\n",
    "    producer=producer,\n",
    "    context=context,\n",
    "    deterministic=deterministic,\n",
    ")\n",
    "\n",
    "# loop through the buffer that is filled concurrently at the same time\n",
    "for index in range(10):\n",
    "    data = next(buffer_iterator)\n",
    "    print(data)\n",
    "    \n",
    "# always stop the iterator to close all processes and free the shared memory\n",
    "buffer_iterator.stop()\n"
   ]
  },
  {
   "cell_type": "code",
   "execution_count": null,
   "metadata": {},
   "outputs": [],
   "source": []
  }
 ],
 "metadata": {
  "interpreter": {
   "hash": "e9b80b179d63cfad1d87d51254209623db27a2da6cd618bfee1a6cc1fe6f5d38"
  },
  "kernelspec": {
   "display_name": "Python 3",
   "language": "python",
   "name": "python3"
  },
  "language_info": {
   "codemirror_mode": {
    "name": "ipython",
    "version": 3
   },
   "file_extension": ".py",
   "mimetype": "text/x-python",
   "name": "python",
   "nbconvert_exporter": "python",
   "pygments_lexer": "ipython3",
   "version": "3.8.5"
  }
 },
 "nbformat": 4,
 "nbformat_minor": 4
}
