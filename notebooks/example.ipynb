{
 "cells": [
  {
   "cell_type": "code",
   "execution_count": 1,
   "metadata": {},
   "outputs": [],
   "source": [
    "from enum import Enum\n",
    "from dataclasses import dataclass"
   ]
  },
  {
   "cell_type": "code",
   "execution_count": 18,
   "metadata": {},
   "outputs": [
    {
     "ename": "TypeError",
     "evalue": "method expected 2 arguments, got 3",
     "output_type": "error",
     "traceback": [
      "\u001b[0;31m---------------------------------------------------------------------------\u001b[0m",
      "\u001b[0;31mTypeError\u001b[0m                                 Traceback (most recent call last)",
      "\u001b[0;32m<ipython-input-18-bb24c7f58d34>\u001b[0m in \u001b[0;36m<module>\u001b[0;34m\u001b[0m\n\u001b[1;32m      1\u001b[0m \u001b[0;32mfrom\u001b[0m \u001b[0mmultiprocessing\u001b[0m \u001b[0;32mimport\u001b[0m \u001b[0mPipe\u001b[0m\u001b[0;34m\u001b[0m\u001b[0;34m\u001b[0m\u001b[0m\n\u001b[1;32m      2\u001b[0m \u001b[0;34m\u001b[0m\u001b[0m\n\u001b[0;32m----> 3\u001b[0;31m \u001b[0;32mclass\u001b[0m \u001b[0mBufferIdConnection\u001b[0m\u001b[0;34m(\u001b[0m\u001b[0mPipe\u001b[0m\u001b[0;34m)\u001b[0m\u001b[0;34m:\u001b[0m\u001b[0;34m\u001b[0m\u001b[0;34m\u001b[0m\u001b[0m\n\u001b[0m\u001b[1;32m      4\u001b[0m \u001b[0;34m\u001b[0m\u001b[0m\n\u001b[1;32m      5\u001b[0m     \u001b[0;32mdef\u001b[0m \u001b[0m__init__\u001b[0m\u001b[0;34m(\u001b[0m\u001b[0mself\u001b[0m\u001b[0;34m)\u001b[0m \u001b[0;34m->\u001b[0m \u001b[0;32mNone\u001b[0m\u001b[0;34m:\u001b[0m\u001b[0;34m\u001b[0m\u001b[0;34m\u001b[0m\u001b[0m\n",
      "\u001b[0;31mTypeError\u001b[0m: method expected 2 arguments, got 3"
     ]
    }
   ],
   "source": [
    "from multiprocessing import Pipe\n",
    "\n",
    "class BufferIdConnection(Pipe):\n",
    "\n",
    "    def __init__(self) -> None:\n",
    "        super().__init__()\n",
    "\n",
    "    "
   ]
  },
  {
   "cell_type": "code",
   "execution_count": 15,
   "metadata": {},
   "outputs": [
    {
     "data": {
      "text/plain": [
       "2"
      ]
     },
     "execution_count": 15,
     "metadata": {},
     "output_type": "execute_result"
    }
   ],
   "source": [
    "len(BufferState)"
   ]
  },
  {
   "cell_type": "code",
   "execution_count": 9,
   "metadata": {},
   "outputs": [
    {
     "data": {
      "text/plain": [
       "123"
      ]
     },
     "execution_count": 9,
     "metadata": {},
     "output_type": "execute_result"
    }
   ],
   "source": [
    "a.free"
   ]
  },
  {
   "cell_type": "code",
   "execution_count": 10,
   "metadata": {},
   "outputs": [
    {
     "data": {
      "text/plain": [
       "1"
      ]
     },
     "execution_count": 10,
     "metadata": {},
     "output_type": "execute_result"
    }
   ],
   "source": [
    "BufferState.free"
   ]
  },
  {
   "cell_type": "code",
   "execution_count": null,
   "metadata": {},
   "outputs": [],
   "source": []
  },
  {
   "cell_type": "code",
   "execution_count": 2,
   "metadata": {},
   "outputs": [],
   "source": [
    "\n",
    "class BufferProcess(Process):\n",
    "\n",
    "    \n",
    "    def __init__(self, buffer_shape, buffers, message_queue, buffer_id_message_key='buffer_id', stop_message='STOP'):\n",
    "        super().__init__()\n",
    "        self.daemon = True\n",
    "        self._process_id = os.getpid()\n",
    "        self._buffer_shape = buffer_shape\n",
    "        self._buffers = buffers\n",
    "        self._message_queue = message_queue\n",
    "        self._buffer_id_message_key = buffer_id_message_key\n",
    "        self._stop_message = stop_message\n",
    "        \n",
    "        \n",
    "    def run(self):\n",
    "        for message in iter(self._message_queue.get, self.stop_message):\n",
    "            buffer_id = message[self.buffer_id_message_key]\n",
    "            data = self.create_data(message)\n",
    "            buffer = np.ndarray(data.shape, dtype=data.dtype, buffer=self._buffers[buffer_id].buf)\n",
    "            buffer[:] = data[:]\n",
    "\n",
    "    @abstractmethod\n",
    "    def create_data(self, message):\n",
    "        ...\n",
    "            \n",
    "class Data:\n",
    "    \n",
    "    def create_data(self, message):\n",
    "        value = message['value']\n",
    "        shape = message['shape']\n",
    "        return np.ones(shape)*value\n",
    "\n",
    "class DataBufferProcess(Data, BufferProcess):\n",
    "    ..."
   ]
  },
  {
   "cell_type": "code",
   "execution_count": 3,
   "metadata": {},
   "outputs": [],
   "source": [
    "number_of_buffers = 2\n",
    "buffer_shape = (12, 284, 284, 3)\n",
    "\n",
    "message_queue = Queue()\n",
    "smm = SharedBufferManager(number_of_buffers=number_of_buffers, buffer_shape=buffer_shape)\n",
    "smm.start() \n",
    "cp1 = DataBufferProcess(buffer_shape=buffer_shape, buffers=smm.buffers, message_queue=message_queue)\n",
    "cp2 = DataBufferProcess(buffer_shape=buffer_shape, buffers=smm.buffers, message_queue=message_queue)\n",
    "cp1.start()\n",
    "cp2.start()\n",
    "\n",
    "\n",
    "\n"
   ]
  },
  {
   "cell_type": "code",
   "execution_count": 12,
   "metadata": {},
   "outputs": [],
   "source": [
    "message_queue.put({'buffer_id': 1, 'value': 182, 'shape': buffer_shape})"
   ]
  },
  {
   "cell_type": "code",
   "execution_count": 15,
   "metadata": {},
   "outputs": [],
   "source": [
    "my_array = np.ndarray(buffer_shape, buffer=smm.get_buffer(1).buf)"
   ]
  },
  {
   "cell_type": "code",
   "execution_count": 19,
   "metadata": {},
   "outputs": [
    {
     "data": {
      "text/plain": [
       "False"
      ]
     },
     "execution_count": 19,
     "metadata": {},
     "output_type": "execute_result"
    }
   ],
   "source": [
    "np.all(my_array==181)"
   ]
  },
  {
   "cell_type": "code",
   "execution_count": null,
   "metadata": {},
   "outputs": [],
   "source": []
  },
  {
   "cell_type": "code",
   "execution_count": null,
   "metadata": {},
   "outputs": [],
   "source": [
    "cp1.join()\n",
    "cp2.join()\n",
    "smm.shutdown()"
   ]
  }
 ],
 "metadata": {
  "kernelspec": {
   "display_name": "Python 3",
   "language": "python",
   "name": "python3"
  },
  "language_info": {
   "codemirror_mode": {
    "name": "ipython",
    "version": 3
   },
   "file_extension": ".py",
   "mimetype": "text/x-python",
   "name": "python",
   "nbconvert_exporter": "python",
   "pygments_lexer": "ipython3",
   "version": "3.8.5"
  }
 },
 "nbformat": 4,
 "nbformat_minor": 4
}
