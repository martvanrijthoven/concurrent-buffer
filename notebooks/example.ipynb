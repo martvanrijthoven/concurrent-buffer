{
 "cells": [
  {
   "cell_type": "code",
   "execution_count": 1,
   "source": [
    "from concurrentbuffer.commander import Commander\n",
    "class IndexCommander(Commander):\n",
    "    def __init__(self, max_index: int):\n",
    "        self._max_index = max_index\n",
    "        self._index = 0\n",
    "\n",
    "    def create_message(self) -> dict:\n",
    "        message = {\"index\": self._index}\n",
    "        self._index = (self._index + 1) % self._max_index\n",
    "        return message"
   ],
   "outputs": [],
   "metadata": {}
  },
  {
   "cell_type": "code",
   "execution_count": 2,
   "source": [
    "import numpy as np\n",
    "from concurrentbuffer.producer import Producer\n",
    "\n",
    "class DataProducer(Producer):\n",
    "    def __init__(self, data_shape: tuple):\n",
    "        self._data_shape = data_shape\n",
    "\n",
    "    def create_data(self, message: dict) -> np.ndarray:\n",
    "        index = message['index']\n",
    "        return self._time_consuming_processing(index)\n",
    "\n",
    "    def _time_consuming_processing(self, index) -> np.ndarray:\n",
    "        return np.ones(self._data_shape)*index\n",
    "        "
   ],
   "outputs": [],
   "metadata": {}
  },
  {
   "cell_type": "code",
   "execution_count": 21,
   "source": [
    "from concurrentbuffer.iterator import buffer_iterator_factory\n",
    "\n",
    "\n",
    "# the number of cpus/producers\n",
    "cpus = 4\n",
    "\n",
    "# the buffershape in the shared memory\n",
    "buffer_shape = (1, 10)\n",
    "\n",
    "# the context of multiprocess (spawn or fork)\n",
    "context = 'fork'\n",
    "\n",
    "# if the messages from the commander and the produced data are first in first out\n",
    "deterministic = True\n",
    "\n",
    "# You will have to create your own Commander class, please see instructions below\n",
    "# a user defined commander, should subclass the Commander class\n",
    "commander = IndexCommander(max_index=10)\n",
    "\n",
    "# You will have to create your own Producer class, please see instructions below\n",
    "# a user defined producer, should subclass the Producer class\n",
    "producer = DataProducer(data_shape=buffer_shape)\n",
    "\n",
    "# create a buffer iterator\n",
    "buffer_iterator = buffer_iterator_factory(\n",
    "    cpus=cpus,\n",
    "    buffer_shape=buffer_shape,\n",
    "    commander=commander,\n",
    "    producer=producer,\n",
    "    context=context,\n",
    "    deterministic=deterministic,\n",
    ")\n",
    "\n",
    "# loop through the buffer that is filled concurrently at the same time\n",
    "for index in range(10):\n",
    "    data = next(buffer_iterator)\n",
    "    print(data)\n",
    "    \n",
    "# always stop the iterator to close all processes and free the shared memory\n",
    "buffer_iterator.stop()\n"
   ],
   "outputs": [
    {
     "output_type": "stream",
     "name": "stdout",
     "text": [
      "[[0 0 0 0 0 0 0 0 0 0]]\n",
      "[[1 1 1 1 1 1 1 1 1 1]]\n",
      "[[2 2 2 2 2 2 2 2 2 2]]\n",
      "[[3 3 3 3 3 3 3 3 3 3]]\n",
      "[[4 4 4 4 4 4 4 4 4 4]]\n",
      "[[5 5 5 5 5 5 5 5 5 5]]\n",
      "[[6 6 6 6 6 6 6 6 6 6]]\n",
      "[[7 7 7 7 7 7 7 7 7 7]]\n",
      "[[8 8 8 8 8 8 8 8 8 8]]\n",
      "[[9 9 9 9 9 9 9 9 9 9]]\n"
     ]
    }
   ],
   "metadata": {}
  }
 ],
 "metadata": {
  "kernelspec": {
   "name": "python3",
   "display_name": "Python 3.8.5 64-bit ('mart': conda)"
  },
  "language_info": {
   "codemirror_mode": {
    "name": "ipython",
    "version": 3
   },
   "file_extension": ".py",
   "mimetype": "text/x-python",
   "name": "python",
   "nbconvert_exporter": "python",
   "pygments_lexer": "ipython3",
   "version": "3.8.5"
  },
  "interpreter": {
   "hash": "e9b80b179d63cfad1d87d51254209623db27a2da6cd618bfee1a6cc1fe6f5d38"
  }
 },
 "nbformat": 4,
 "nbformat_minor": 4
}